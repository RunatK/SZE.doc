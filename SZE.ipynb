{
 "cells": [
  {
   "cell_type": "markdown",
   "id": "811a8135-453f-4da6-aef3-993157c95428",
   "metadata": {},
   "source": [
    "# Работу выполнил студенты группы 09-122 Визель Леонид Александрович и Кучаев Ринат Загирович"
   ]
  },
  {
   "cell_type": "markdown",
   "id": "5577f48e-e78d-422a-89a7-0d85320576c3",
   "metadata": {},
   "source": [
    "# ГЛАВА 8 \n",
    "\n",
    "## Интегрирование\n",
    "\n",
    "В этой главе мы рассмотрим различные аспекты интегрирования, уделяя основное внимание численному интегрированию. По историческим причинам численное интегрирование также известно как квадратура. Интегрирование значительно сложнее, чем обратная операция дифференцирования — и хотя существует множество примеров интегралов, которые можно вычислить аналитически, в основном приходится прибегать к численным методам. В зависимости от свойств подынтегральной функции (интегрируемой функции) и пределов интегрирования численное вычисление интеграла может быть простым или трудным. Интегралы от непрерывных функций и с конечными пределами интегрирования в большинстве случаев могут быть эффективно вычислены в одном измерении, но интегрируемые функции с особенностями или интегралы с бесконечными пределами интегрирования являются примерами случаев, которые может быть трудно обработать численно даже в одном измерении. Двумерные интегралы (двойные интегралы) и интегралы более высокого порядка можно вычислять численно с помощью повторного одномерного интегрирования или с использованием методов, которые являются многомерным обобщением методов, используемых для решения одномерных интегралов. Однако сложность вычислений быстро растет с увеличением числа измерений, по которым необходимо интегрировать, и на практике такие методы применимы только для низкоразмерных интегралов, таких как двойные или тройные интегралы. Интегралы более высокой размерности часто требуют совершенно других методов, таких как алгоритмы выборки Монте-Карло.\n",
    "\n",
    "Помимо численного вычисления интегралов с определенными пределами интегрирования, дающего в результате одно число, интегрирование имеет и другие важные приложения. Например, уравнения, в которых подынтегральной функцией интеграла является неизвестная величина, называются интегральными уравнениями, и такие уравнения часто встречаются в научных и инженерных приложениях. Интегральные уравнения обычно трудно решить, но их часто можно преобразовать в системы линейных уравнений путем дискретизации интеграла. Однако здесь мы не рассматриваем эту тему, а примеры задач такого типа увидим в главе 10. Еще одним важным применением интегрирования являются интегральные преобразования, которые\n",
    "— это методы преобразования функций и уравнений между различными областями. В конце этой главы мы кратко обсудим, как SymPy можно использовать для вычисления некоторых интегральных преобразований, таких как преобразования Лапласа и преобразования Фурье.\n",
    "\n",
    "Для выполнения символьного интегрирования мы можем использовать SymPy, как кратко обсуждалось в главе 3, а для вычисления числового интегрирования мы в основном используем модуль Integration в SciPy. Однако в SymPy (через библиотеку множественной точности mpmath) также есть процедуры численного интегрирования, которые дополняют процедуры в SciPy, например, предлагая интеграцию произвольной точности. В этой главе мы рассмотрим оба этих варианта и обсудим их плюсы и минусы. Мы также кратко рассмотрим интеграцию Монте-Карло с использованием библиотеки scikit-monaco.\n",
    "\n",
    "Scikit-monaco — это небольшая недавно выпущенная библиотека, которая делает интегрирование Монте-Карло удобным и легко доступным. На момент написания актуальная версия scikit-monaco — это 0.2.1. См. http://scikit-monaco.readthedocs.org для получения дополнительной информации.\n",
    "\n",
    "## Импорт модулей\n",
    "\n",
    "В этой главе нам, как обычнопо, требуются библиотеки NumPy и Matplotlib для базовой поддержки чисел и графиков, а кроме того, мы используем модуль интеграции из SciPy, библиотеку SymPy и математическую библиотеку произвольной точности mpmath. Здесь мы предполагаем, что эти модули импортируются следующим образо\n",
    "\n"
   ]
  },
  {
   "cell_type": "code",
   "execution_count": 42,
   "id": "a5f3fb08-5325-435a-8c45-88ee69ae3691",
   "metadata": {},
   "outputs": [],
   "source": [
    "import numpy as np"
   ]
  },
  {
   "cell_type": "code",
   "execution_count": 43,
   "id": "3733656d-79bd-4c5e-acce-8a0b8b6d253d",
   "metadata": {},
   "outputs": [],
   "source": [
    "import matplotlib.pyplot as plt"
   ]
  },
  {
   "cell_type": "code",
   "execution_count": 44,
   "id": "0c83889a-71b8-4052-af88-bee59c2c3e1d",
   "metadata": {},
   "outputs": [],
   "source": [
    "import matplotlib as mpl"
   ]
  },
  {
   "cell_type": "code",
   "execution_count": 45,
   "id": "97229fdd-a96a-4960-9ace-9bfcd0d71120",
   "metadata": {},
   "outputs": [],
   "source": [
    "from scipy import integrate"
   ]
  },
  {
   "cell_type": "code",
   "execution_count": 46,
   "id": "2ae3301b-7def-444b-958e-667f2bed414d",
   "metadata": {},
   "outputs": [],
   "source": [
    "import sympy"
   ]
  },
  {
   "cell_type": "code",
   "execution_count": 47,
   "id": "69d184ba-3290-4552-a156-5b6b04e9b126",
   "metadata": {},
   "outputs": [],
   "source": [
    "import mpmath"
   ]
  },
  {
   "cell_type": "markdown",
   "id": "7b7b35d7-a25a-4906-9fe0-6ea4e8a4a16c",
   "metadata": {},
   "source": [
    "Кроме того, для корректного форматирования вывода SymPy нам также необходимо настроить его систему печати:"
   ]
  },
  {
   "cell_type": "code",
   "execution_count": 48,
   "id": "a6c015ff-4564-44fe-a666-ee2512aae8bb",
   "metadata": {},
   "outputs": [],
   "source": [
    "sympy.init_printing()"
   ]
  },
  {
   "cell_type": "markdown",
   "id": "18d84a02-4bb1-4d6c-96df-11f13a60d3eb",
   "metadata": {},
   "source": [
    "## Численные методы интегрирования\n",
    "\n",
    "Здесь нас интересует вычисление определенных интегралов вида $I(f)=\\int_{a}^{b} f(x) \\mathrm{d} x$ с заданными пределами интегрирования $a$ и $b$. Интервал $[a, b]$ может быть конечным, полубесконечным (где либо $a=-\\infty$, либо $b=\\infty$ ) или бесконечным (где оба $a=-\\infty$ и $b =\\infty$ ). Интеграл $I(f)$ можно интерпретировать как площадь между кривой подынтегральной функции $f(x)$ и осью $x$, как показано на рисунке 8-1."
   ]
  },
  {
   "cell_type": "markdown",
   "id": "c6ef51e6-9e00-416d-a716-64bda6bdaee3",
   "metadata": {},
   "source": [
    "![](SZE-1.jpg)"
   ]
  },
  {
   "cell_type": "markdown",
   "id": "66486247-536a-45ca-b2b3-0651b96737cc",
   "metadata": {},
   "source": [
    "Рисунок 8-1. Интерпретация интеграла как площади между кривой подынтегрального выражения и осью $x$, где площадь считается положительной, если $f(x)>0$ (зеленый/светлый), и отрицательной в противном случае (красный/темный).\n",
    "\n",
    "Общая стратегия численного вычисления интеграла $I(f)$ в приведенной выше форме состоит в том, чтобы записать интеграл в виде дискретной суммы, аппроксимирующей значение интеграл получаем"
   ]
  },
  {
   "cell_type": "markdown",
   "id": "82a43974-8abe-40bf-bf66-5a313a09b8ae",
   "metadata": {},
   "source": [
    "$$\n",
    "I(f)=\\sum_{i=1}^{n} w_{i} f\\left(x_{i}\\right)+r_{n}\n",
    "$$"
   ]
  },
  {
   "cell_type": "markdown",
   "id": "60986ae4-d1fb-49a8-b487-690e8126ea3a",
   "metadata": {},
   "source": [
    "Здесь $w_{i}$ — веса $n$ оценок $f(x)$ в точках $x_{i} \\in[a, b]$, а $r_{n}$ — причитающаяся невязка к приближению. На практике мы предполагаем, что $r_{n}$ мал и им можно пренебречь, но важно иметь оценку $r_{n}$, чтобы знать, насколько точно аппроксимируется интеграл. Эта формула суммирования $I(f)$ известна как $n$-точечное квадратурное правило, а выбор числа точек $n$, их расположения в $[a, b]$ и весовых коэффициентов $ w_{i}$ влияет на точность и вычислительную сложность его оценки. Правила квадратур могут быть получены путем интерполяции $f(x)$ на интервале $[a, b]$. Если точки $x_{i}$ равномерно распределены в интервале $[a, b]$ и используется полиномиальная интерполяция, то полученное квадратурное правило известно как правило Ньютона-Котеса.\n",
    "правило квадратуры. Например, аппроксимируя $f(x)$ полиномом нулевого порядка (постоянное значение) с использованием среднего значения $x_{0}=(a+b) / 2$, получаем"
   ]
  },
  {
   "cell_type": "markdown",
   "id": "ae6c10b1-9bf4-4877-8426-8e22e42d9dd8",
   "metadata": {},
   "source": [
    "$$\n",
    "\\int_{a}^{b} f(x) \\mathrm{d} x \\approx f\\left(\\frac{a+b}{2}\\right)_{a}^{b} \\mathrm{~d} x=(b-a) f\\left(\\frac{a+b}{2}\\right)\n",
    "$$"
   ]
  },
  {
   "cell_type": "markdown",
   "id": "44454907-6655-498d-95de-001d4aa2efcb",
   "metadata": {},
   "source": [
    "Это известно как правило средней точки, и оно интегрирует полиномы до первого порядка (линейные функции) точно, и поэтому говорят, что оно имеет полиномиальную степень один. Аппроксимация $f(x)$ полиномом первой степени, оцениваемым в конечных точках интервала, приводит к"
   ]
  },
  {
   "cell_type": "markdown",
   "id": "8562f54e-1b30-42d2-b352-2b6c4072325b",
   "metadata": {},
   "source": [
    "$$\n",
    "\\int_{a}^{b} f(x) \\mathrm{d} x \\approx \\frac{b-a}{2}(f(a)+f(b))\n",
    "$$"
   ]
  },
  {
   "cell_type": "markdown",
   "id": "c0b43181-62b3-4eb4-82d8-6e287bb0675a",
   "metadata": {},
   "source": [
    "Это известно как правило трапеций, и оно также имеет первую полиномиальную степень. Использование интерполяционного полинома второго порядка приводит к правилу Симпсона:"
   ]
  },
  {
   "cell_type": "markdown",
   "id": "1a23687f-0773-438e-8735-7fa7e4abd635",
   "metadata": {},
   "source": [
    "$$\n",
    "\\int_{a}^{b} f(x) \\mathrm{d} x \\approx \\frac{b-a}{6}\\left(f(a)+4 f\\left(\\frac{a+b}{2}\\right)+f(b)\\right)\n",
    "$$"
   ]
  },
  {
   "cell_type": "markdown",
   "id": "eb80d97c-1f18-442a-bd1d-33f55e56df51",
   "metadata": {
    "jp-MarkdownHeadingCollapsed": true
   },
   "source": [
    "который использует оценки функций в конечных точках и средней точке. Этот метод имеет полиномиальную степень три, что означает, что он интегрирует ровно полиномы до третьего порядка. Метод получения этой формулы можно легко продемонстрировать с помощью SymPy: сначала мы определяем символы для переменных $a, b$ и $x$, а также функции $f$."
   ]
  },
  {
   "cell_type": "code",
   "execution_count": 49,
   "id": "e4475385-e0ba-42e0-89fa-18847271da45",
   "metadata": {},
   "outputs": [],
   "source": [
    "a, b, X = sympy.symbols(\"a, b, X\")"
   ]
  },
  {
   "cell_type": "code",
   "execution_count": 50,
   "id": "7a20d34a-2946-4844-9ded-0c2960222117",
   "metadata": {},
   "outputs": [],
   "source": [
    "f = sympy.Function(\"f\")"
   ]
  },
  {
   "cell_type": "markdown",
   "id": "7469d92e-da30-4d72-8664-a04f934b8c0b",
   "metadata": {},
   "source": [
    "Далее мы определяем кортеж $x$, который содержит точки выборки (концы и середину интервала $[a, b])$ и список $\\mathrm{w}$ весовых коэффициентов, которые будут использоваться в квадратуре правило, соответствующее каждой точке отбора проб:"
   ]
  },
  {
   "cell_type": "code",
   "execution_count": 51,
   "id": "3a918270-3e72-496c-8d9c-3533e8dc569e",
   "metadata": {},
   "outputs": [],
   "source": [
    "x= a, (a+b)/2, b # for Simpson's rule"
   ]
  },
  {
   "cell_type": "code",
   "execution_count": 52,
   "id": "a6855996-db47-48e2-be52-9264a1308bb6",
   "metadata": {},
   "outputs": [],
   "source": [
    "w = [sympy.symbols(\"w_\\%d\" % i) for i in range(len(x))]"
   ]
  },
  {
   "cell_type": "markdown",
   "id": "695ff90e-0b88-4a40-aee5-5fd6f5f80138",
   "metadata": {},
   "source": [
    "Учитывая $x$ и $w$, теперь мы можем построить символическое выражение для правила квадратур:"
   ]
  },
  {
   "cell_type": "code",
   "execution_count": 53,
   "id": "d3b163b7-7a3c-46e4-9bd6-d5dcdf6ee7d6",
   "metadata": {},
   "outputs": [],
   "source": [
    "q_rule = sum([w[i] * f(x[i]) for i in range(len(x))])"
   ]
  },
  {
   "cell_type": "code",
   "execution_count": 54,
   "id": "d90ce97f-baf8-4612-846f-36db53518638",
   "metadata": {},
   "outputs": [
    {
     "data": {
      "text/latex": [
       "$\\displaystyle w_{\\0} f{\\left(a \\right)} + w_{\\1} f{\\left(\\frac{a}{2} + \\frac{b}{2} \\right)} + w_{\\2} f{\\left(b \\right)}$"
      ],
      "text/plain": [
       "                  ⎛a   b⎞            \n",
       "w_\\0⋅f(a) + w_\\1⋅f⎜─ + ─⎟ + w_\\2⋅f(b)\n",
       "                  ⎝2   2⎠            "
      ]
     },
     "execution_count": 54,
     "metadata": {},
     "output_type": "execute_result"
    }
   ],
   "source": [
    "q_rule"
   ]
  },
  {
   "cell_type": "markdown",
   "id": "495c1910-72e7-4705-b163-b449db73003b",
   "metadata": {},
   "source": [
    "Для вычисления соответствующих значений весовых коэффициентов $w_{i}$ мы выбираем полиномиальные базисные функции $\\left\\{\\phi_{n}(x)=x^{n}\\right\\}_{n=0 }^{2}$ для интерполяции $f(x)$, и здесь мы используем Sympy. Лямбда-функция для создания символических представлений для каждой из этих базисных функций:"
   ]
  },
  {
   "cell_type": "code",
   "execution_count": 55,
   "id": "8c7c3e66-f0fe-4361-a1b8-470892219b86",
   "metadata": {},
   "outputs": [],
   "source": [
    "phi = [sympy.Lambda(X, X**n) for n in range(len(x))]"
   ]
  },
  {
   "cell_type": "code",
   "execution_count": 56,
   "id": "812b01f0-7aa5-456b-85ba-c0cf22a9092b",
   "metadata": {},
   "outputs": [
    {
     "data": {
      "image/png": "[encoded data removed]",
      "text/latex": [
       "$\\displaystyle \\left[ \\left( X \\mapsto 1 \\right), \\  \\left( x \\mapsto x \\right), \\  \\left( X \\mapsto X^{2} \\right)\\right]$"
      ],
      "text/plain": [
       "⎡                   2⎤\n",
       "⎣X ↦ 1, x ↦ x, X ↦ X ⎦"
      ]
     },
     "execution_count": 56,
     "metadata": {},
     "output_type": "execute_result"
    }
   ],
   "source": [
    "phi"
   ]
  },
  {
   "cell_type": "markdown",
   "id": "fe39d324-26e1-43fc-a5c7-f0e5811a7e65",
   "metadata": {},
   "source": [
    "Ключом к нахождению весовых коэффициентов в квадратурном выражении является то, что интеграл $\\int_{a}^{b} \\phi_{n}(x) \\mathrm{d} x$ может быть вычислен аналитически для каждой из базисных функций. $\\phi_{n}(x)$. Подставив в квадратурное правило функцию $f(x)$ на каждую из базисных функций $\\phi_{n}(x)$, получим систему уравнений для неизвестных весовых коэффициентов:"
   ]
  },
  {
   "cell_type": "markdown",
   "id": "15018762-4390-4865-818c-5a6e252b9bb5",
   "metadata": {},
   "source": [
    "$$\n",
    "\\sum_{i=0}^{2} w_{i} \\phi_{n}\\left(x_{i}\\right)=\\int_{a}^{b} \\phi_{n}(x) \\mathrm{d} x\n",
    "$$"
   ]
  },
  {
   "cell_type": "markdown",
   "id": "f96cd3ff-4d15-49b3-ac80-e926daa11e6d",
   "metadata": {},
   "source": [
    "Эти уравнения эквивалентны требованию, чтобы правило квадратур точно интегрировало все базисные функции и, следовательно, (по крайней мере) все функции, натянутые на базис. Эту систему уравнений можно построить с помощью SymPy, используя"
   ]
  },
  {
   "cell_type": "code",
   "execution_count": 57,
   "id": "44809b2e-cabd-4f9f-b6f3-446ee9fa997f",
   "metadata": {},
   "outputs": [],
   "source": [
    "eqs = [q_rule.subs(f, phi[n]) - sympy.integrate(phi[n](X), (X,a,b))\n",
    "          for n in range(len(phi))]"
   ]
  },
  {
   "cell_type": "markdown",
   "id": "4c74ad91-0e1b-4851-9276-f5a6e426de5e",
   "metadata": {},
   "source": [
    "Решение этой системы линейных уравнений дает аналитические выражения для весовых коэффициентов:"
   ]
  },
  {
   "cell_type": "code",
   "execution_count": 58,
   "id": "5763e7f2-be7f-4054-8e0d-56aa595a7234",
   "metadata": {},
   "outputs": [],
   "source": [
    "w_sol = sympy.solve(eqs, w)"
   ]
  },
  {
   "cell_type": "code",
   "execution_count": 59,
   "id": "cbd43455-ae84-4fd6-be14-e68139ba4d67",
   "metadata": {},
   "outputs": [
    {
     "data": {
      "text/latex": [
       "$\\displaystyle \\left\\{ w_{\\0} : - \\frac{a}{6} + \\frac{b}{6}, \\  w_{\\1} : - \\frac{2 a}{3} + \\frac{2 b}{3}, \\  w_{\\2} : - \\frac{a}{6} + \\frac{b}{6}\\right\\}$"
      ],
      "text/plain": [
       "⎧        a   b          2⋅a   2⋅b          a   b⎫\n",
       "⎨w_\\0: - ─ + ─, w_\\1: - ─── + ───, w_\\2: - ─ + ─⎬\n",
       "⎩        6   6           3     3           6   6⎭"
      ]
     },
     "execution_count": 59,
     "metadata": {},
     "output_type": "execute_result"
    }
   ],
   "source": [
    "w_sol"
   ]
  },
  {
   "cell_type": "markdown",
   "id": "6df773e7-f072-4098-a6b8-99468298ef60",
   "metadata": {},
   "source": [
    "подставив решение в символьное выражение правила квадратур, получим:"
   ]
  },
  {
   "cell_type": "code",
   "execution_count": 60,
   "id": "84573a39-af73-412f-a772-da9bf35fdbb0",
   "metadata": {},
   "outputs": [
    {
     "data": {
      "image/png": "[encoded data removed]",
      "text/latex": [
       "$\\displaystyle \\frac{\\left(a - b\\right) \\left(- f{\\left(a \\right)} - f{\\left(b \\right)} - 4 f{\\left(\\frac{a}{2} + \\frac{b}{2} \\right)}\\right)}{6}$"
      ],
      "text/plain": [
       "        ⎛                  ⎛a   b⎞⎞\n",
       "(a - b)⋅⎜-f(a) - f(b) - 4⋅f⎜─ + ─⎟⎟\n",
       "        ⎝                  ⎝2   2⎠⎠\n",
       "───────────────────────────────────\n",
       "                 6                 "
      ]
     },
     "execution_count": 60,
     "metadata": {},
     "output_type": "execute_result"
    }
   ],
   "source": [
    "q_rule.subs(w_sol).simplify()"
   ]
  },
  {
   "cell_type": "markdown",
   "id": "3cd4ee9c-e798-46b4-b110-b4588a92260c",
   "metadata": {},
   "source": [
    "Мы признаем этот результат как квадратурное правило Симпсона, данное в предыдущем разделе. Выбор разных точек выборки (кортеж $x$ в этом коде) приводит к различным правилам квадратур.\n",
    "\n",
    "Квадратурные правила более высокого порядка можно аналогичным образом получить с помощью полиномиальной интерполяции более высокого порядка (больше точек выборки в интервале $[a, b]$). Однако полиномиальная интерполяция высокого порядка может иметь нежелательное поведение между точками выборки, как обсуждалось в главе 7. Поэтому вместо использования квадратурных правил более высокого порядка часто лучше разделить интервал интегрирования $[a, b]$ на подинтервалы. $\\left[a=x_{0}, x_{1}\\right],\\left[x_{1}, x_{2}\\right], \\ldots,\\left[x_{N-1}, x_{ N}=b\\right]$ и используйте квадратурное правило низкого порядка на каждом из этих подинтервалов. Такие методы известны как составные квадратурные правила. На рисунке 8-2 показаны три квадратурных правила Ньютона-Котеса низшего порядка для функции $f(x)=3+x+x^{2}+x^{3}+x^{4}$ на интервале $. [-1,1]$ и соответствующие составные правила квадратур с четырьмя подразделениями исходного интервала."
   ]
  },
  {
   "cell_type": "markdown",
   "id": "3f586543-4984-46ca-a625-cc306f21d33b",
   "metadata": {},
   "source": [
    "![](SZE-2.jpg)"
   ]
  },
  {
   "cell_type": "markdown",
   "id": "0fb6e2db-9000-4834-ac8f-5ad789e73663",
   "metadata": {},
   "source": [
    "Рисунок 8-2. Визуализация правил квадратур (верхняя панель) и составных правил квадратур (нижняя панель) нулевого порядка (правило средней точки), первого (правило трапеции) и второго (правило Симпсона)"
   ]
  },
  {
   "cell_type": "markdown",
   "id": "6361806c-ce9e-4266-9b8c-7fe7c15813fd",
   "metadata": {},
   "source": [
    "Важным параметром, характеризующим составные квадратурные правила, является длина подинтервала $h=(b-a)/N$. Оценки ошибок в приближенном правиле квадратур и масштабирование ошибки по $h$ можно получить путем разложения подынтегрального выражения в ряд Тейлора и аналитического интегрирования члена в полученный ряд. Альтернативный метод состоит в одновременном рассмотрении правил квадратур разных порядков или разной длины подинтервалов $h$. Часто можно показать, что разница между двумя такими результатами дает оценку ошибки, и это является основой того, сколько квадратурных процедур дают оценку ошибки в дополнение к оценке интеграла, как мы увидим в примерах ниже."
   ]
  },
  {
   "cell_type": "markdown",
   "id": "e9e238ce-d172-4cba-a142-088b390d4758",
   "metadata": {},
   "source": [
    "Мы видели, что квадратурные правила Ньютона-Котеса используют равномерно расположенные точки выборки подынтегральной функции $f(x)$. Это часто удобно, особенно если подынтегральная функция получается из измерений или наблюдений в заданных точках и не может быть вычислена в произвольных точках интервала $[a, b]$. Однако это не обязательно самый эффективный выбор квадратурных узлов, и если подынтегральная функция задана как функция, которую легко можно вычислить при произвольных значениях $x \\in[a, b]$, то может быть выгодно использовать правила квадратур, которые не используют равномерно расположенные точки выборки. Примером такого метода является квадратура Гаусса, которая также использует полиномиальную интерполяцию для определения значений весовых коэффициентов в правиле квадратур, но где квадратурные узлы $x_{i}$ выбираются так, чтобы максимизировать порядок полиномов, которые можно точно проинтегрировать. (степень полинома) при фиксированном количестве квадратурных точек. Оказывается, что варианты $x_{i}$, удовлетворяющие этим критериям, являются корнями различных ортогональных полиномов, а точки выборки $x_{i}$ обычно располагаются в иррациональных местах интервала интегрирования $[a, b]$ . Обычно это не является проблемой для численных реализаций, но на практике это требует, чтобы функция $f(x)$ была доступна для оценки в произвольных точках, которые определяются процедурой интегрирования, а не задавались в виде табличных или заранее вычисленных данных с регулярными интервалами. значения $x$. Правила квадратуры Гаусса обычно более эффективны, если $f(x)$ можно оценить при произвольных значениях, но по только что упомянутой причине квадратурные правила Ньютона-Котеса также имеют важные случаи использования, когда подынтегральная функция задается в виде табличных данных."
   ]
  },
  {
   "cell_type": "markdown",
   "id": "b72f5477-0810-476d-bd6b-e898f3b86949",
   "metadata": {},
   "source": [
    "## Численная интеграция с SciPy\n",
    "\n",
    "Числовые квадратурные процедуры в модуле интеграции SciPy можно разделить на два типа: процедуры, которые принимают подынтегральное выражение как функцию Python, и процедуры, которые принимают массивы с выборками подынтегрального выражения в заданных точках. В функциях первого типа используются квадратуры Гаусса (quad,квадратура,fixed_quad), а в функциях второго типа — методы Ньютона-Котеса (trapz, simps и romb).\n",
    "\n",
    "Квадратурная функция — это адаптивная квадратурная процедура Гаусса, реализованная на Python. Квадратура неоднократно вызывает функцию fix_quad для гауссовой квадратуры фиксированного порядка с возрастанием порядка, пока не будет достигнута требуемая точность. Функция Quad — это оболочка для подпрограмм из библиотеки FORTRAN QUADPACK, которая имеет превосходную производительность с точки зрения скорости и имеет больше возможностей (например, поддержку бесконечных пределов интегрирования). Поэтому обычно предпочтительнее использовать квадратурную функцию, и в дальнейшем мы будем использовать эту квадратурную функцию. Однако все эти функции принимают схожие аргументы и часто могут быть заменены друг другом. В качестве первого аргумента они принимают функцию, реализующую подынтегральную функцию, а второй и третий аргументы — нижний и верхний пределы интегрирования. В качестве конкретного примера рассмотрим численное вычисление интеграла $\\int_{-1}^{1} e^{-x^{2}} \\mathrm{~d} x$. Чтобы вычислить этот интеграл с помощью функции Quad SciPy, мы сначала определяем функцию для подынтегральной функции, а затем вызываем функцию Quad:"
   ]
  },
  {
   "cell_type": "code",
   "execution_count": 61,
   "id": "e3bffd8b-dee7-4405-ba4c-6e9104e8ef2d",
   "metadata": {},
   "outputs": [],
   "source": [
    "def f(x):\n",
    "    return np.exp(-x**2)"
   ]
  },
  {
   "cell_type": "code",
   "execution_count": 62,
   "id": "a9904834-040f-4b4b-8d66-8afaa1f8bc10",
   "metadata": {},
   "outputs": [],
   "source": [
    "val, err = integrate.quad(f,-1,1)"
   ]
  },
  {
   "cell_type": "code",
   "execution_count": null,
   "id": "82b3c37a-9fd6-4746-977b-fab55a888fc7",
   "metadata": {},
   "outputs": [],
   "source": []
  }
 ],
 "metadata": {
  "kernelspec": {
   "display_name": "Python 3 (ipykernel)",
   "language": "python",
   "name": "python3"
  },
  "language_info": {
   "codemirror_mode": {
    "name": "ipython",
    "version": 3
   },
   "file_extension": ".py",
   "mimetype": "text/x-python",
   "name": "python",
   "nbconvert_exporter": "python",
   "pygments_lexer": "ipython3",
   "version": "3.11.5"
  }
 },
 "nbformat": 4,
 "nbformat_minor": 5
}
